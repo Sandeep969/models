{
 "cells": [
  {
   "cell_type": "code",
   "execution_count": 1,
   "metadata": {
    "collapsed": true
   },
   "outputs": [],
   "source": [
    "class ANNmodel:\n",
    "    def __init__(self):\n",
    "        pass\n",
    "    def model(self,X,Y):\n",
    "        from keras.models import Sequential\n",
    "        from keras.layers import Dense\n",
    "        # create model\n",
    "        model = Sequential()\n",
    "        model.add(Dense(12, input_dim=8, init='uniform', activation='relu'))\n",
    "        model.add(Dense(8, init='uniform', activation='relu'))\n",
    "        model.add(Dense(1, init='uniform', activation='sigmoid'))\n",
    "        \n",
    "        # Compile model\n",
    "        model.compile(loss='binary_crossentropy', optimizer='adam', metrics=['accuracy'])\n",
    "        \n",
    "        # Fit the model\n",
    "        model.fit(X, Y, nb_epoch=150, batch_size=10, verbose=False)\n",
    "        \n",
    "        # evaluate the model\n",
    "        scores = model.evaluate(X, Y)\n",
    "        print(\"%s: %.2f%%\" % (model.metrics_names[1], scores[1]*100))"
   ]
  },
  {
   "cell_type": "code",
   "execution_count": null,
   "metadata": {
    "collapsed": true
   },
   "outputs": [],
   "source": []
  }
 ],
 "metadata": {
  "anaconda-cloud": {},
  "kernelspec": {
   "display_name": "Python [Root]",
   "language": "python",
   "name": "Python [Root]"
  },
  "language_info": {
   "codemirror_mode": {
    "name": "ipython",
    "version": 3
   },
   "file_extension": ".py",
   "mimetype": "text/x-python",
   "name": "python",
   "nbconvert_exporter": "python",
   "pygments_lexer": "ipython3",
   "version": "3.5.2"
  }
 },
 "nbformat": 4,
 "nbformat_minor": 1
}
